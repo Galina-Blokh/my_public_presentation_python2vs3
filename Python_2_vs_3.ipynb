{
  "nbformat": 4,
  "nbformat_minor": 0,
  "metadata": {
    "kernelspec": {
      "display_name": "Python 3",
      "language": "python",
      "name": "python3"
    },
    "language_info": {
      "codemirror_mode": {
        "name": "ipython",
        "version": 3
      },
      "file_extension": ".py",
      "mimetype": "text/x-python",
      "name": "python",
      "nbconvert_exporter": "python",
      "pygments_lexer": "ipython3",
      "version": "3.7.5"
    },
    "colab": {
      "name": "Python 2 vs 3.ipynb",
      "provenance": [],
      "collapsed_sections": [],
      "include_colab_link": true
    }
  },
  "cells": [
    {
      "cell_type": "markdown",
      "metadata": {
        "id": "view-in-github",
        "colab_type": "text"
      },
      "source": [
        "<a href=\"https://colab.research.google.com/github/Galina-Blokh/my_public_presentation_python2vs3/blob/main/Python_2_vs_3.ipynb\" target=\"_parent\"><img src=\"https://colab.research.google.com/assets/colab-badge.svg\" alt=\"Open In Colab\"/></a>"
      ]
    },
    {
      "cell_type": "markdown",
      "metadata": {
        "id": "J6EVd6vT2kGB"
      },
      "source": [
        "\n",
        "\n",
        "\n",
        "\n",
        "###### The fascinating quest of figuring out the difference between\n",
        "# Python 2 vs Python 3\n",
        "\n",
        "\n",
        "\n",
        "On December 2008, Python released version 3.0. This version was mainly released to fix problems which exist in Python 2. The nature of these change is such that Python 3 was incompatible with Python 2. It is backward incompatible Some features of Python 3 have been backported to Python 2.x versions to make the migration process easy in Python 3.\n",
        "\n",
        "As a result, for any organization who was using Python 2.x version, migrating their project to 3.x needed lots of changes. These changes not only relate to projects and applications but also all the libraries that form part of the Python ecosystem.\n",
        "\n",
        "\n",
        "Python 2 made code development process easier than earlier versions. It implemented technical details of Python Enhancement Proposal (PEP). Python 2.7 (last version in 2.x ) is no longer under development and in 2020 will be discontinued"
      ]
    },
    {
      "cell_type": "markdown",
      "metadata": {
        "id": "hlupqURd2kGE"
      },
      "source": [
        "#### Let's start with something familiar"
      ]
    },
    {
      "cell_type": "code",
      "metadata": {
        "id": "slCzsPcF2kGF",
        "colab": {
          "base_uri": "https://localhost:8080/"
        },
        "outputId": "af96bf9e-9db7-487d-9c23-3e6edf358f12"
      },
      "source": [
        "print('yet another hello world!')"
      ],
      "execution_count": null,
      "outputs": [
        {
          "output_type": "stream",
          "text": [
            "yet another hello world!\n"
          ],
          "name": "stdout"
        }
      ]
    },
    {
      "cell_type": "code",
      "metadata": {
        "id": "i2Zh4BHm2kGK",
        "colab": {
          "base_uri": "https://localhost:8080/"
        },
        "outputId": "99c988bc-0498-41e0-e640-1e5ce3dfc6ca"
      },
      "source": [
        "%%python2  \n",
        "# ^^^^^^^ note the magic function\n",
        "\n",
        "\n",
        "\n",
        "print 'feels like something\\'s missing here...'"
      ],
      "execution_count": null,
      "outputs": [
        {
          "output_type": "stream",
          "text": [
            "feels like something's missing here...\n"
          ],
          "name": "stdout"
        }
      ]
    },
    {
      "cell_type": "code",
      "metadata": {
        "id": "ET4AsP-42kGN",
        "colab": {
          "base_uri": "https://localhost:8080/"
        },
        "outputId": "a5e9db47-f9f7-4212-ff6e-7ebba3c65778"
      },
      "source": [
        "%%python2\n",
        "print 'הדפס אותי'\n",
        "\n",
        "# What is this going to print?"
      ],
      "execution_count": null,
      "outputs": [
        {
          "output_type": "stream",
          "text": [
            "  File \"<stdin>\", line 1\n",
            "SyntaxError: Non-ASCII character '\\xd7' in file <stdin> on line 1, but no encoding declared; see http://python.org/dev/peps/pep-0263/ for details\n"
          ],
          "name": "stderr"
        }
      ]
    },
    {
      "cell_type": "code",
      "metadata": {
        "id": "02AQaBnG2kGQ",
        "colab": {
          "base_uri": "https://localhost:8080/"
        },
        "outputId": "49b518d0-540e-4672-a073-4a09b4c4b58c"
      },
      "source": [
        "%%python2\n",
        "print 'there is more than meets the eye 👀'"
      ],
      "execution_count": null,
      "outputs": [
        {
          "output_type": "stream",
          "text": [
            "  File \"<stdin>\", line 1\n",
            "SyntaxError: Non-ASCII character '\\xf0' in file <stdin> on line 1, but no encoding declared; see http://python.org/dev/peps/pep-0263/ for details\n"
          ],
          "name": "stderr"
        }
      ]
    },
    {
      "cell_type": "code",
      "metadata": {
        "id": "DJ2Mfk6d2kGT",
        "colab": {
          "base_uri": "https://localhost:8080/"
        },
        "outputId": "88f75f09-e085-4c3d-8f40-c5c0502e4802"
      },
      "source": [
        "print('这样没有问题！འོད་དཔག་མེད་ 🧘🏻') \n",
        "\n",
        "# Back to familiar territory "
      ],
      "execution_count": null,
      "outputs": [
        {
          "output_type": "stream",
          "text": [
            "这样没有问题！འོད་དཔག་མེད་ 🧘🏻\n"
          ],
          "name": "stdout"
        }
      ]
    },
    {
      "cell_type": "markdown",
      "metadata": {
        "id": "PREavdoH2kGW"
      },
      "source": [
        "### Timeline\n",
        "* Python   --->    The 80s\n",
        "* Python 2 --->    2000\n",
        "* Python 3 --->    2008\n",
        "\n",
        "### Introduced in Python 2\n",
        "* list comprehension\n",
        "* garbage collection system\n",
        "* an open source approach / community-backed\n",
        "* etc.\n",
        "\n",
        "### New in Python 3\n",
        "* too much for being able to just call it Python 2.8 ... as we shall see."
      ]
    },
    {
      "cell_type": "markdown",
      "metadata": {
        "id": "cLqEJsMG2kGY"
      },
      "source": [
        "#### Why is this upgrade so significant (and also problematic)?\n",
        "\n",
        "* The changes were so vast in Python 3 in comparison to Python 2 that Python 3 is **backward incompatible!** (as opposed to normal upgrades)\n",
        "* Resulted in a lots of time and money spent:\n",
        "    * Upgrading in huge amounts of codes\n",
        "    * and also libraries that code relied on.\n",
        "\n",
        "#### So there's a newer, better version. Great! Why the heck do we need to waste time talking about the old one?"
      ]
    },
    {
      "cell_type": "code",
      "metadata": {
        "id": "SdGs8d8h2kGY",
        "colab": {
          "resources": {
            "http://localhost:8080/trends2.jpg": {
              "data": "CjwhRE9DVFlQRSBodG1sPgo8aHRtbCBsYW5nPWVuPgogIDxtZXRhIGNoYXJzZXQ9dXRmLTg+CiAgPG1ldGEgbmFtZT12aWV3cG9ydCBjb250ZW50PSJpbml0aWFsLXNjYWxlPTEsIG1pbmltdW0tc2NhbGU9MSwgd2lkdGg9ZGV2aWNlLXdpZHRoIj4KICA8dGl0bGU+RXJyb3IgNDA0IChOb3QgRm91bmQpISExPC90aXRsZT4KICA8c3R5bGU+CiAgICAqe21hcmdpbjowO3BhZGRpbmc6MH1odG1sLGNvZGV7Zm9udDoxNXB4LzIycHggYXJpYWwsc2Fucy1zZXJpZn1odG1se2JhY2tncm91bmQ6I2ZmZjtjb2xvcjojMjIyO3BhZGRpbmc6MTVweH1ib2R5e21hcmdpbjo3JSBhdXRvIDA7bWF4LXdpZHRoOjM5MHB4O21pbi1oZWlnaHQ6MTgwcHg7cGFkZGluZzozMHB4IDAgMTVweH0qID4gYm9keXtiYWNrZ3JvdW5kOnVybCgvL3d3dy5nb29nbGUuY29tL2ltYWdlcy9lcnJvcnMvcm9ib3QucG5nKSAxMDAlIDVweCBuby1yZXBlYXQ7cGFkZGluZy1yaWdodDoyMDVweH1we21hcmdpbjoxMXB4IDAgMjJweDtvdmVyZmxvdzpoaWRkZW59aW5ze2NvbG9yOiM3Nzc7dGV4dC1kZWNvcmF0aW9uOm5vbmV9YSBpbWd7Ym9yZGVyOjB9QG1lZGlhIHNjcmVlbiBhbmQgKG1heC13aWR0aDo3NzJweCl7Ym9keXtiYWNrZ3JvdW5kOm5vbmU7bWFyZ2luLXRvcDowO21heC13aWR0aDpub25lO3BhZGRpbmctcmlnaHQ6MH19I2xvZ297YmFja2dyb3VuZDp1cmwoLy93d3cuZ29vZ2xlLmNvbS9pbWFnZXMvbG9nb3MvZXJyb3JwYWdlL2Vycm9yX2xvZ28tMTUweDU0LnBuZykgbm8tcmVwZWF0O21hcmdpbi1sZWZ0Oi01cHh9QG1lZGlhIG9ubHkgc2NyZWVuIGFuZCAobWluLXJlc29sdXRpb246MTkyZHBpKXsjbG9nb3tiYWNrZ3JvdW5kOnVybCgvL3d3dy5nb29nbGUuY29tL2ltYWdlcy9sb2dvcy9lcnJvcnBhZ2UvZXJyb3JfbG9nby0xNTB4NTQtMngucG5nKSBuby1yZXBlYXQgMCUgMCUvMTAwJSAxMDAlOy1tb3otYm9yZGVyLWltYWdlOnVybCgvL3d3dy5nb29nbGUuY29tL2ltYWdlcy9sb2dvcy9lcnJvcnBhZ2UvZXJyb3JfbG9nby0xNTB4NTQtMngucG5nKSAwfX1AbWVkaWEgb25seSBzY3JlZW4gYW5kICgtd2Via2l0LW1pbi1kZXZpY2UtcGl4ZWwtcmF0aW86Mil7I2xvZ297YmFja2dyb3VuZDp1cmwoLy93d3cuZ29vZ2xlLmNvbS9pbWFnZXMvbG9nb3MvZXJyb3JwYWdlL2Vycm9yX2xvZ28tMTUweDU0LTJ4LnBuZykgbm8tcmVwZWF0Oy13ZWJraXQtYmFja2dyb3VuZC1zaXplOjEwMCUgMTAwJX19I2xvZ297ZGlzcGxheTppbmxpbmUtYmxvY2s7aGVpZ2h0OjU0cHg7d2lkdGg6MTUwcHh9CiAgPC9zdHlsZT4KICA8YSBocmVmPS8vd3d3Lmdvb2dsZS5jb20vPjxzcGFuIGlkPWxvZ28gYXJpYS1sYWJlbD1Hb29nbGU+PC9zcGFuPjwvYT4KICA8cD48Yj40MDQuPC9iPiA8aW5zPlRoYXTigJlzIGFuIGVycm9yLjwvaW5zPgogIDxwPiAgPGlucz5UaGF04oCZcyBhbGwgd2Uga25vdy48L2lucz4K",
              "ok": false,
              "headers": [
                [
                  "content-length",
                  "1449"
                ],
                [
                  "content-type",
                  "text/html; charset=utf-8"
                ]
              ],
              "status": 404,
              "status_text": ""
            }
          },
          "base_uri": "https://localhost:8080/",
          "height": 37
        },
        "outputId": "fc7cf5bf-b1cf-4376-fcf3-1b7f004e8511"
      },
      "source": [
        "%%html\n",
        "<img src=\"./trends2.jpg\" text-align='center'>\n",
        "\n",
        "\n",
        "# What the world thinks... (on average, about 1/3 of google searches are about Python 2!  )"
      ],
      "execution_count": null,
      "outputs": [
        {
          "output_type": "display_data",
          "data": {
            "text/html": [
              "<img src=\"./trends2.jpg\" text-align='center'>\n",
              "\n",
              "\n",
              "# What the world thinks... (on average, about 1/3 of google searches are about Python 2!  )"
            ],
            "text/plain": [
              "<IPython.core.display.HTML object>"
            ]
          },
          "metadata": {
            "tags": []
          }
        }
      ]
    },
    {
      "cell_type": "markdown",
      "metadata": {
        "id": "yX6usLtV2kGb"
      },
      "source": [
        "(Just for fun: what are the seeminly cyclical drops in searches?)"
      ]
    },
    {
      "cell_type": "markdown",
      "metadata": {
        "id": "hWz3Wnat2kGc"
      },
      "source": [
        "### How come Python 2 did not go extinct?\n",
        "\n",
        "* Some tools that are still being used today, especailly in the DevOps domain, are Python 2 coded. \n",
        "* Some companies still hold / maintain old code base, in general\n",
        "* Some libraries you would need are Python 2"
      ]
    },
    {
      "cell_type": "markdown",
      "metadata": {
        "id": "mMgfg-Rr2kGd"
      },
      "source": [
        "### Main Difference:\n",
        "#### 1) Already seen the print statment which was changed to a function\n",
        "\n",
        "* In Python 2.0, the print-syntax is treated as a statement rather than a function.\n",
        "* When print() is a function - as with any function - we can do this:"
      ]
    },
    {
      "cell_type": "code",
      "metadata": {
        "id": "U2AJp8Re2kGg",
        "colab": {
          "base_uri": "https://localhost:8080/"
        },
        "outputId": "1aba76ad-d319-483a-dff3-c88d4b3e87fd"
      },
      "source": [
        "\n",
        "result = print('hello world')\n",
        "print(result)\n",
        "\n",
        "# even though result is None, this can be done (the function simply does not return anything)"
      ],
      "execution_count": null,
      "outputs": [
        {
          "output_type": "stream",
          "text": [
            "hello world\n",
            "None\n"
          ],
          "name": "stdout"
        }
      ]
    },
    {
      "cell_type": "code",
      "metadata": {
        "id": "tbTNqED72kGj",
        "colab": {
          "base_uri": "https://localhost:8080/",
          "height": 129
        },
        "outputId": "053317ca-2875-4b8a-ad49-b9dce0613324"
      },
      "source": [
        "result = print 'hello world'\n",
        "\n",
        "#This, however..."
      ],
      "execution_count": null,
      "outputs": [
        {
          "output_type": "error",
          "ename": "SyntaxError",
          "evalue": "ignored",
          "traceback": [
            "\u001b[0;36m  File \u001b[0;32m\"<ipython-input-8-2faef4e33cd8>\"\u001b[0;36m, line \u001b[0;32m1\u001b[0m\n\u001b[0;31m    result = print 'hello world'\u001b[0m\n\u001b[0m                               ^\u001b[0m\n\u001b[0;31mSyntaxError\u001b[0m\u001b[0;31m:\u001b[0m invalid syntax\n"
          ]
        }
      ]
    },
    {
      "cell_type": "markdown",
      "metadata": {
        "id": "2SDAsZ1t2kGm"
      },
      "source": [
        "Some other function funcionalities in Python 3 are impossible in Python 2:"
      ]
    },
    {
      "cell_type": "code",
      "metadata": {
        "id": "5GRWFg5F2kGm",
        "colab": {
          "base_uri": "https://localhost:8080/"
        },
        "outputId": "85eb522e-bbee-4145-cfe5-1ce51ae2c5d7"
      },
      "source": [
        "print(*['Pi', '=', 3.14, 'is', True])"
      ],
      "execution_count": null,
      "outputs": [
        {
          "output_type": "stream",
          "text": [
            "Pi = 3.14 is True\n"
          ],
          "name": "stdout"
        }
      ]
    },
    {
      "cell_type": "code",
      "metadata": {
        "id": "HSECzxxm2kGp",
        "colab": {
          "base_uri": "https://localhost:8080/"
        },
        "outputId": "10de0a73-98ee-4c6c-c049-a3a8770944a2"
      },
      "source": [
        "print('hello') if True else print('goodbye!')\n",
        "\n",
        "# This is called a ternary conditional expression"
      ],
      "execution_count": null,
      "outputs": [
        {
          "output_type": "stream",
          "text": [
            "hello\n"
          ],
          "name": "stdout"
        }
      ]
    },
    {
      "cell_type": "code",
      "metadata": {
        "id": "DlLjL4Xb2kGr",
        "colab": {
          "base_uri": "https://localhost:8080/"
        },
        "outputId": "40891dc0-e773-45ea-8fea-b2851a2bcb53"
      },
      "source": [
        "%%python2\n",
        "print 'hello' if True else print 'goobye!'\n",
        "\n",
        "# Doesn't work here"
      ],
      "execution_count": null,
      "outputs": [
        {
          "output_type": "stream",
          "text": [
            "  File \"<stdin>\", line 1\n",
            "    print 'hello' if True else print 'goobye!'\n",
            "                                   ^\n",
            "SyntaxError: invalid syntax\n"
          ],
          "name": "stderr"
        }
      ]
    },
    {
      "cell_type": "markdown",
      "metadata": {
        "id": "75zYwhh12kGt"
      },
      "source": [
        "Now let's try something crazy. Will it work?"
      ]
    },
    {
      "cell_type": "code",
      "metadata": {
        "id": "Bemw3swf2kGu",
        "colab": {
          "base_uri": "https://localhost:8080/"
        },
        "outputId": "e38b94f8-44ff-4593-fa6f-b79a3764ee64"
      },
      "source": [
        "%%python2\n",
        "print('Neat!')"
      ],
      "execution_count": null,
      "outputs": [
        {
          "output_type": "stream",
          "text": [
            "Neat!\n"
          ],
          "name": "stdout"
        }
      ]
    },
    {
      "cell_type": "code",
      "metadata": {
        "id": "L00p-bXU2kGx",
        "colab": {
          "base_uri": "https://localhost:8080/"
        },
        "outputId": "d521cf9e-53c1-41af-b6a8-a94621c1b323"
      },
      "source": [
        "%%python2\n",
        "print type(  print  )"
      ],
      "execution_count": null,
      "outputs": [
        {
          "output_type": "stream",
          "text": [
            "  File \"<stdin>\", line 1\n",
            "    print type(  print  )\n",
            "                     ^\n",
            "SyntaxError: invalid syntax\n"
          ],
          "name": "stderr"
        }
      ]
    },
    {
      "cell_type": "markdown",
      "metadata": {
        "id": "4DaSvWQw2kG1"
      },
      "source": [
        "#### 2) Division\n",
        "\n",
        "* Would always return an int in Python 2\n",
        "* In Python 3, it returns a float\n"
      ]
    },
    {
      "cell_type": "code",
      "metadata": {
        "id": "8Wh7EMbW2kG2",
        "colab": {
          "base_uri": "https://localhost:8080/"
        },
        "outputId": "1fc13bd9-a605-48a9-8f5f-b454dd25f4d8"
      },
      "source": [
        "print(f'In python 3, 5/2 is {5/2} and 4/2 is {4/2}')"
      ],
      "execution_count": null,
      "outputs": [
        {
          "output_type": "stream",
          "text": [
            "In python 3, 5/2 is 2.5 and 4/2 is 2.0\n"
          ],
          "name": "stdout"
        }
      ]
    },
    {
      "cell_type": "code",
      "metadata": {
        "id": "3QlERFa_2kG5",
        "colab": {
          "base_uri": "https://localhost:8080/"
        },
        "outputId": "bdf5dc00-5181-482d-e7ce-fe3f44fc124b"
      },
      "source": [
        "%%python2\n",
        "print(f'In python 2, 5/2 is {5/2}')\n",
        "\n",
        "# What would be the output?"
      ],
      "execution_count": null,
      "outputs": [
        {
          "output_type": "stream",
          "text": [
            "  File \"<stdin>\", line 1\n",
            "    print(f'In python 2, 5/2 is {5/2}')\n",
            "                                     ^\n",
            "SyntaxError: invalid syntax\n"
          ],
          "name": "stderr"
        }
      ]
    },
    {
      "cell_type": "code",
      "metadata": {
        "id": "soAnXWOc2kG7",
        "colab": {
          "base_uri": "https://localhost:8080/"
        },
        "outputId": "d081636e-49a4-4f31-8638-3be38cb2979b"
      },
      "source": [
        "%%python2\n",
        "print 'In python 2, 5/2 is {0}'.format(5/2)\n",
        "\n",
        "# just like the // floor divisor in Python 3"
      ],
      "execution_count": null,
      "outputs": [
        {
          "output_type": "stream",
          "text": [
            "In python 2, 5/2 is 2\n"
          ],
          "name": "stdout"
        }
      ]
    },
    {
      "cell_type": "markdown",
      "metadata": {
        "id": "H45RXP5Q2kG9"
      },
      "source": [
        "\n",
        "\n",
        "```\n",
        "# This is formatted as code\n",
        "```\n",
        "\n",
        "#### 3) Unicode\n",
        "\n",
        "In Python 3, we have Unicode  strings, and 2 byte classes:\n",
        "    \n",
        "  byte and bytearrays.\n"
      ]
    },
    {
      "cell_type": "code",
      "metadata": {
        "id": "_ypLv--HeBXR",
        "colab": {
          "base_uri": "https://localhost:8080/"
        },
        "outputId": "e95b1d44-1277-4d84-9dfd-6c2c0c381028"
      },
      "source": [
        "# Just an example of string Python2\n",
        "%%python2\n",
        "print 'they are really' + b' the same'"
      ],
      "execution_count": null,
      "outputs": [
        {
          "output_type": "stream",
          "text": [
            "they are really the same\n"
          ],
          "name": "stdout"
        }
      ]
    },
    {
      "cell_type": "code",
      "metadata": {
        "id": "X3LLZVXiobfc",
        "colab": {
          "base_uri": "https://localhost:8080/"
        },
        "outputId": "8267ab64-e7c8-4da9-f28c-7de314d264e0"
      },
      "source": [
        "# Python 2 has ASCII str() types\n",
        "%%python2\n",
        "print type(b'they are really')"
      ],
      "execution_count": null,
      "outputs": [
        {
          "output_type": "stream",
          "text": [
            "<type 'str'>\n"
          ],
          "name": "stdout"
        }
      ]
    },
    {
      "cell_type": "code",
      "metadata": {
        "id": "yIj7nsFHe50B",
        "colab": {
          "base_uri": "https://localhost:8080/"
        },
        "outputId": "348cd42d-a1d5-4863-9e62-063f424a37ee"
      },
      "source": [
        "# In Python2 no byte type, exists only str type, but it is a string which stored in bytes\n",
        "%%python2\n",
        "print type(u'bytearray oddly does exist though')"
      ],
      "execution_count": null,
      "outputs": [
        {
          "output_type": "stream",
          "text": [
            "<type 'unicode'>\n"
          ],
          "name": "stdout"
        }
      ]
    },
    {
      "cell_type": "code",
      "metadata": {
        "id": "Kr8vJlyLfaCd",
        "colab": {
          "base_uri": "https://localhost:8080/"
        },
        "outputId": "e8129237-3a03-4601-eeed-7eeb29560bfd"
      },
      "source": [
        "# Python3 has a byte type\n",
        "print(type(b' bytes for storing data'))"
      ],
      "execution_count": null,
      "outputs": [
        {
          "output_type": "stream",
          "text": [
            "<class 'bytes'>\n"
          ],
          "name": "stdout"
        }
      ]
    },
    {
      "cell_type": "code",
      "metadata": {
        "id": "kW_kPblbc4Il",
        "colab": {
          "base_uri": "https://localhost:8080/"
        },
        "outputId": "4fffd8d7-3ae0-4926-a9d9-ef3ad4da96e0"
      },
      "source": [
        "# Python 2 has separate unicode() function\n",
        "%%python2\n",
        "print type(unicode('שלום'))"
      ],
      "execution_count": null,
      "outputs": [
        {
          "output_type": "stream",
          "text": [
            "  File \"<stdin>\", line 1\n",
            "SyntaxError: Non-ASCII character '\\xd7' in file <stdin> on line 1, but no encoding declared; see http://python.org/dev/peps/pep-0263/ for details\n"
          ],
          "name": "stderr"
        }
      ]
    },
    {
      "cell_type": "code",
      "metadata": {
        "id": "zH6oFYFdgbAi",
        "colab": {
          "base_uri": "https://localhost:8080/"
        },
        "outputId": "5818d217-9ffe-4cb2-ff4f-7aae7a849687"
      },
      "source": [
        "print('strings are now utf-8 \\u03BCnico\\u0394é!')"
      ],
      "execution_count": null,
      "outputs": [
        {
          "output_type": "stream",
          "text": [
            "strings are now utf-8 μnicoΔé!\n"
          ],
          "name": "stdout"
        }
      ]
    },
    {
      "cell_type": "code",
      "metadata": {
        "id": "vWi4iboBf17h",
        "colab": {
          "base_uri": "https://localhost:8080/",
          "height": 197
        },
        "outputId": "da8a146b-7a34-4287-eb5e-7145913ad9d9"
      },
      "source": [
        "# In Python 3, text and bytes cannot be mixed.\n",
        "s = 'note that we cannot add a string' + b'bytes for data'\n",
        "print(s)"
      ],
      "execution_count": null,
      "outputs": [
        {
          "output_type": "error",
          "ename": "TypeError",
          "evalue": "ignored",
          "traceback": [
            "\u001b[0;31m---------------------------------------------------------------------------\u001b[0m",
            "\u001b[0;31mTypeError\u001b[0m                                 Traceback (most recent call last)",
            "\u001b[0;32m<ipython-input-1-655c31b843cb>\u001b[0m in \u001b[0;36m<module>\u001b[0;34m()\u001b[0m\n\u001b[1;32m      1\u001b[0m \u001b[0;31m# In Python 3, text and bytes cannot be mixed.\u001b[0m\u001b[0;34m\u001b[0m\u001b[0;34m\u001b[0m\u001b[0;34m\u001b[0m\u001b[0m\n\u001b[0;32m----> 2\u001b[0;31m \u001b[0ms\u001b[0m \u001b[0;34m=\u001b[0m \u001b[0;34m'note that we cannot add a string'\u001b[0m \u001b[0;34m+\u001b[0m \u001b[0;34mb'bytes for data'\u001b[0m\u001b[0;34m\u001b[0m\u001b[0;34m\u001b[0m\u001b[0m\n\u001b[0m\u001b[1;32m      3\u001b[0m \u001b[0mprint\u001b[0m\u001b[0;34m(\u001b[0m\u001b[0ms\u001b[0m\u001b[0;34m)\u001b[0m\u001b[0;34m\u001b[0m\u001b[0;34m\u001b[0m\u001b[0m\n",
            "\u001b[0;31mTypeError\u001b[0m: must be str, not bytes"
          ]
        }
      ]
    },
    {
      "cell_type": "code",
      "metadata": {
        "id": "P8HKWsFOecT0",
        "colab": {
          "base_uri": "https://localhost:8080/"
        },
        "outputId": "41d1ff6a-5cd5-45b6-a309-8d356e97962a"
      },
      "source": [
        "%%python2\n",
        "print type(bytearray(b'bytearray oddly does exist though'))"
      ],
      "execution_count": null,
      "outputs": [
        {
          "output_type": "stream",
          "text": [
            "<type 'bytearray'>\n"
          ],
          "name": "stdout"
        }
      ]
    },
    {
      "cell_type": "code",
      "metadata": {
        "id": "0Z7YvkaBfxZN",
        "colab": {
          "base_uri": "https://localhost:8080/"
        },
        "outputId": "56693ceb-66ab-420e-8484-04fb4cca06a1"
      },
      "source": [
        "print(' also has', type(bytearray(b'bytearrays')))"
      ],
      "execution_count": null,
      "outputs": [
        {
          "output_type": "stream",
          "text": [
            " also has <class 'bytearray'>\n"
          ],
          "name": "stdout"
        }
      ]
    },
    {
      "cell_type": "markdown",
      "metadata": {
        "id": "5Xolvktw2kG-"
      },
      "source": [
        "##  4) xrange\n",
        "The usage of `xrange()` is very popular in Python 2.x for creating an iterable object, e.g., in a `for`-loop or list/set-dictionary-comprehension.\n",
        "The behavior was quite similar to a generator (i.e., “lazy evaluation”), but here the xrange-iterable is not exhaustible - meaning, you could iterate over it infinitely.\n",
        "\n",
        "The `xrange()` is generally faster if you have to iterate over it only once (e.g., in a for-loop). \n",
        "\n",
        "In Python 3, the `range()` was implemented like the `xrange()` function so that a dedicated xrange() function does not exist anymore (`xrange()` raises a NameError in Python 3).\n",
        "\n"
      ]
    },
    {
      "cell_type": "code",
      "metadata": {
        "id": "9ORnDMBUzUVU",
        "colab": {
          "base_uri": "https://localhost:8080/",
          "height": 214
        },
        "outputId": "52b02690-87c4-4912-fb68-ac36f8a1719d"
      },
      "source": [
        "# Python3\n",
        "\n",
        "for x in xrange(1, 5):  \n",
        "    print(x)"
      ],
      "execution_count": null,
      "outputs": [
        {
          "output_type": "error",
          "ename": "NameError",
          "evalue": "ignored",
          "traceback": [
            "\u001b[0;31m---------------------------------------------------------------------------\u001b[0m",
            "\u001b[0;31mNameError\u001b[0m                                 Traceback (most recent call last)",
            "\u001b[0;32m<ipython-input-26-6375518c3412>\u001b[0m in \u001b[0;36m<module>\u001b[0;34m()\u001b[0m\n\u001b[1;32m      1\u001b[0m \u001b[0;31m# Python3\u001b[0m\u001b[0;34m\u001b[0m\u001b[0;34m\u001b[0m\u001b[0;34m\u001b[0m\u001b[0m\n\u001b[1;32m      2\u001b[0m \u001b[0;34m\u001b[0m\u001b[0m\n\u001b[0;32m----> 3\u001b[0;31m \u001b[0;32mfor\u001b[0m \u001b[0mx\u001b[0m \u001b[0;32min\u001b[0m \u001b[0mxrange\u001b[0m\u001b[0;34m(\u001b[0m\u001b[0;36m1\u001b[0m\u001b[0;34m,\u001b[0m \u001b[0;36m5\u001b[0m\u001b[0;34m)\u001b[0m\u001b[0;34m:\u001b[0m\u001b[0;34m\u001b[0m\u001b[0;34m\u001b[0m\u001b[0m\n\u001b[0m\u001b[1;32m      4\u001b[0m     \u001b[0mprint\u001b[0m\u001b[0;34m(\u001b[0m\u001b[0mx\u001b[0m\u001b[0;34m)\u001b[0m\u001b[0;34m\u001b[0m\u001b[0;34m\u001b[0m\u001b[0m\n",
            "\u001b[0;31mNameError\u001b[0m: name 'xrange' is not defined"
          ]
        }
      ]
    },
    {
      "cell_type": "code",
      "metadata": {
        "id": "BTvNxLkn7jH7",
        "colab": {
          "base_uri": "https://localhost:8080/"
        },
        "outputId": "a0d969bd-e7fe-4f5c-a335-069a8e8b8d7c"
      },
      "source": [
        "%%python2\n",
        "\n",
        "for x in xrange(1, 5):  \n",
        "    print x"
      ],
      "execution_count": null,
      "outputs": [
        {
          "output_type": "stream",
          "text": [
            "1\n",
            "2\n",
            "3\n",
            "4\n"
          ],
          "name": "stdout"
        }
      ]
    },
    {
      "cell_type": "markdown",
      "metadata": {
        "id": "UGMgLURiaEh9"
      },
      "source": [
        "If we need to iterate over the same sequence multiple times, we prefer `range()` as range provides a static list. \n",
        "\n",
        "`xrange()` reconstructs the sequence every time. xrange() doesn’t support `slices` and other list methods.\n",
        "\n",
        " The advantage of `xrange()` is, it saves memory when the task is to iterate over a large range.\n",
        "\n",
        "\n",
        "Python 3 offers` Range()` function to perform iterations whereas, In Python 2, the `xrange()` is used for iterations.\n",
        "\n",
        "\n",
        "In Python2 `range()` returns a list of numbers while `xrange()` returns an object "
      ]
    },
    {
      "cell_type": "markdown",
      "metadata": {
        "id": "8neWE2Y1bZ1s"
      },
      "source": [
        "##  5) Error Handling\n",
        "\n",
        "\n",
        "There is a small change in error handling in both versions. In python 3.x, `‘as’ `keyword is required.\n"
      ]
    },
    {
      "cell_type": "markdown",
      "metadata": {
        "id": "b6JwwFztex4d"
      },
      "source": [
        "Python 3 exceptions should be enclosed in parenthesis while Python 2 exceptions should be enclosed in notations.\n",
        "\n",
        "Python 2’s raise statement was designed at a time when exceptions weren’t classes, \n",
        "and an exception’s type, value, and traceback components were three separate objects:\n",
        "\n",
        "In Python 3, one single object includes all information about an exception:\n",
        "\n",
        "In Python 3, an object used with raise must be an instance of BaseException, while Python 2 also allowed old-style classes.\n",
        "\n",
        "Similarly, Python 3 bans catching non-exception classes in the except statement.\n",
        "\n",
        "\n",
        "\n",
        "\n"
      ]
    },
    {
      "cell_type": "code",
      "metadata": {
        "id": "UrbVLvEpcBAP",
        "colab": {
          "base_uri": "https://localhost:8080/"
        },
        "outputId": "cde25fb1-3c48-4db2-92d5-8571e3bc1b6e"
      },
      "source": [
        "%%python2\n",
        "try:  \n",
        "  \n",
        "    trying_to_check_error  \n",
        "  \n",
        "except NameError, err:  \n",
        "  \n",
        "    print err, 'Error Caused'   # Would not work in Python 3.x  \n",
        "   "
      ],
      "execution_count": null,
      "outputs": [
        {
          "output_type": "stream",
          "text": [
            "name 'trying_to_check_error' is not defined Error Caused\n"
          ],
          "name": "stdout"
        }
      ]
    },
    {
      "cell_type": "code",
      "metadata": {
        "id": "uvGjBW7nd2Ry",
        "colab": {
          "base_uri": "https://localhost:8080/",
          "height": 129
        },
        "outputId": "04a0198c-93b6-46a1-d5f8-fc6f77b8d8eb"
      },
      "source": [
        "# so what we will have in Python3?\n",
        "try:  \n",
        "     trying_to_check_error  \n",
        "\n",
        "except NameError, err:  \n",
        "  \n",
        "    print (err, 'Error Caused')   # Would not work in Python 3.x  "
      ],
      "execution_count": null,
      "outputs": [
        {
          "output_type": "error",
          "ename": "SyntaxError",
          "evalue": "ignored",
          "traceback": [
            "\u001b[0;36m  File \u001b[0;32m\"<ipython-input-29-6d8e3380f685>\"\u001b[0;36m, line \u001b[0;32m5\u001b[0m\n\u001b[0;31m    except NameError, err:\u001b[0m\n\u001b[0m                    ^\u001b[0m\n\u001b[0;31mSyntaxError\u001b[0m\u001b[0;31m:\u001b[0m invalid syntax\n"
          ]
        }
      ]
    },
    {
      "cell_type": "code",
      "metadata": {
        "id": "dgGuUm83f0vo",
        "colab": {
          "base_uri": "https://localhost:8080/"
        },
        "outputId": "cd6a1941-0346-4daa-c60e-b285f7a7ffad"
      },
      "source": [
        "# Here we can see\n",
        "#  no difference in a key word 'as' in a moment of catching an error\n",
        "\n",
        "%%python2\n",
        "try:  \n",
        "  \n",
        "     trying_to_check_error  \n",
        "  \n",
        "except NameError as err:\n",
        "  \n",
        "     print err, 'Error Caused'  "
      ],
      "execution_count": null,
      "outputs": [
        {
          "output_type": "stream",
          "text": [
            "name 'trying_to_check_error' is not defined Error Caused\n"
          ],
          "name": "stdout"
        }
      ]
    },
    {
      "cell_type": "code",
      "metadata": {
        "id": "MUXpiLN4gZh1",
        "colab": {
          "base_uri": "https://localhost:8080/"
        },
        "outputId": "c61f237a-a3bd-4eab-935f-70da391362d9"
      },
      "source": [
        "try:  \n",
        "  \n",
        "     trying_to_check_error  \n",
        "  \n",
        "except NameError as err: # 'as' is needed in Python 3.x  \n",
        "  \n",
        "     print (err, 'Error Caused') "
      ],
      "execution_count": null,
      "outputs": [
        {
          "output_type": "stream",
          "text": [
            "name 'trying_to_check_error' is not defined Error Caused\n"
          ],
          "name": "stdout"
        }
      ]
    },
    {
      "cell_type": "markdown",
      "metadata": {
        "id": "3KXXV_OTlc3f"
      },
      "source": [
        "Exception Chaining\n",
        "Python 3 introduced exception chaining by default. In Python 2, when an exception occurs in a library referenced by the main Python program, by default, the details of that exception would not be shown in a traceback. In Python 3, the traceback shows full details of exceptions, both those thrown by the main program and by referenced libraries.\n",
        "\n",
        "Any internals of your code or runtime behaviour, when exposed to the user, creates a security risk. Exception chaining, although it is convenient for debugging, exposes much more information to a potential attacker, who can run a traceback to see how the software reacts to errors.\n",
        "\n",
        "It is possible to disable chained exceptions in Python 3, if you believe the risk outweighs the benefits."
      ]
    },
    {
      "cell_type": "markdown",
      "metadata": {
        "id": "PnyvmiNGqy_w"
      },
      "source": [
        "### 6) What does the Python standard library provide to manage the incompatibility between Python 2 and 3?\n",
        "The following are some modules that we can use:\n",
        "\n",
        "`builtins`: To create wrappers around built-in functions, builtins is useful.\n",
        "`future_builtins`: Function map and filter in Python 2 behave differently than in Python 3.\n",
        "\n",
        " To get Python 3 behaviour, use `from future_builtins import map, filter`.\n",
        " \n",
        "`__future__`: In Python 2, to use `print()` only as a function,\n",
        " use `from __future__ import print_function`.\n",
        " \n",
        "`2to3`: To convert Python 2 code to Python 3, this standard library can be used. It applies a series a fixers to do the conversion. \n",
        "\n",
        "It's based on `lib2to3` library, which can be used to add custom fixers. \n"
      ]
    },
    {
      "cell_type": "markdown",
      "metadata": {
        "id": "lmB9f2sTQk64"
      },
      "source": [
        "Python `Converter` is online conversion tool based on `2to3`.\r\n",
        "##### http://www.pythonconverter.com/\r\n",
        "\r\n",
        "\r\n",
        "There is a cheatsheet that gives examples of writing compatible code.\r\n",
        "##### http://python-future.org/compatible_idioms.html\r\n"
      ]
    },
    {
      "cell_type": "code",
      "metadata": {
        "id": "lbSOQOEPQpUG"
      },
      "source": [
        ""
      ],
      "execution_count": null,
      "outputs": []
    }
  ]
}